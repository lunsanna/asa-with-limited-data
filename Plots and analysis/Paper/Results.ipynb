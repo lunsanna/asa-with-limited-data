{
 "cells": [
  {
   "cell_type": "code",
   "execution_count": 1,
   "metadata": {},
   "outputs": [],
   "source": [
    "import glob, yaml\n",
    "import pandas as pd\n",
    "\n",
    "from helper_functions import get_asa_metrics, get_aggregated_asa_df"
   ]
  },
  {
   "cell_type": "markdown",
   "metadata": {},
   "source": [
    "### Load the dfs \n",
    "These dfs **do not contain** the **model predictions**."
   ]
  },
  {
   "cell_type": "code",
   "execution_count": 24,
   "metadata": {},
   "outputs": [
    {
     "data": {
      "text/html": [
       "<div>\n",
       "<style scoped>\n",
       "    .dataframe tbody tr th:only-of-type {\n",
       "        vertical-align: middle;\n",
       "    }\n",
       "\n",
       "    .dataframe tbody tr th {\n",
       "        vertical-align: top;\n",
       "    }\n",
       "\n",
       "    .dataframe thead th {\n",
       "        text-align: right;\n",
       "    }\n",
       "</style>\n",
       "<table border=\"1\" class=\"dataframe\">\n",
       "  <thead>\n",
       "    <tr style=\"text-align: right;\">\n",
       "      <th></th>\n",
       "      <th>sample</th>\n",
       "      <th>student</th>\n",
       "      <th>task_id</th>\n",
       "      <th>recording_path</th>\n",
       "      <th>cefr_mean</th>\n",
       "      <th>split</th>\n",
       "      <th>transcript_normalized</th>\n",
       "    </tr>\n",
       "  </thead>\n",
       "  <tbody>\n",
       "    <tr>\n",
       "      <th>0</th>\n",
       "      <td>782</td>\n",
       "      <td>1</td>\n",
       "      <td>1</td>\n",
       "      <td>/m/teamwork/t40511_asr/c/digitala/DigiTala_201...</td>\n",
       "      <td>5</td>\n",
       "      <td>1</td>\n",
       "      <td>jos saisin valita tärkeimmän paikan minulle se...</td>\n",
       "    </tr>\n",
       "    <tr>\n",
       "      <th>1</th>\n",
       "      <td>181</td>\n",
       "      <td>3</td>\n",
       "      <td>1</td>\n",
       "      <td>/m/teamwork/t40511_asr/c/digitala/DigiTala_201...</td>\n",
       "      <td>4</td>\n",
       "      <td>1</td>\n",
       "      <td>minä kertoon minun kesämökistä öö se on paras ...</td>\n",
       "    </tr>\n",
       "    <tr>\n",
       "      <th>2</th>\n",
       "      <td>913</td>\n",
       "      <td>4</td>\n",
       "      <td>1</td>\n",
       "      <td>/m/teamwork/t40511_asr/c/digitala/DigiTala_201...</td>\n",
       "      <td>5</td>\n",
       "      <td>3</td>\n",
       "      <td>tärkeä paikka minulle on makuuhuoneeni siellä ...</td>\n",
       "    </tr>\n",
       "    <tr>\n",
       "      <th>3</th>\n",
       "      <td>1822</td>\n",
       "      <td>5</td>\n",
       "      <td>1</td>\n",
       "      <td>/m/teamwork/t40511_asr/c/digitala/DigiTala_201...</td>\n",
       "      <td>5</td>\n",
       "      <td>2</td>\n",
       "      <td>minulle tärkeä paikka on mun olohuone koska vo...</td>\n",
       "    </tr>\n",
       "    <tr>\n",
       "      <th>4</th>\n",
       "      <td>12</td>\n",
       "      <td>7</td>\n",
       "      <td>1</td>\n",
       "      <td>/m/teamwork/t40511_asr/c/digitala/DigiTala_201...</td>\n",
       "      <td>6</td>\n",
       "      <td>1</td>\n",
       "      <td>tämä paikka on minulle tosi tärkeä koska se an...</td>\n",
       "    </tr>\n",
       "  </tbody>\n",
       "</table>\n",
       "</div>"
      ],
      "text/plain": [
       "   sample  student  task_id  \\\n",
       "0     782        1        1   \n",
       "1     181        3        1   \n",
       "2     913        4        1   \n",
       "3    1822        5        1   \n",
       "4      12        7        1   \n",
       "\n",
       "                                      recording_path  cefr_mean  split  \\\n",
       "0  /m/teamwork/t40511_asr/c/digitala/DigiTala_201...          5      1   \n",
       "1  /m/teamwork/t40511_asr/c/digitala/DigiTala_201...          4      1   \n",
       "2  /m/teamwork/t40511_asr/c/digitala/DigiTala_201...          5      3   \n",
       "3  /m/teamwork/t40511_asr/c/digitala/DigiTala_201...          5      2   \n",
       "4  /m/teamwork/t40511_asr/c/digitala/DigiTala_201...          6      1   \n",
       "\n",
       "                               transcript_normalized  \n",
       "0  jos saisin valita tärkeimmän paikan minulle se...  \n",
       "1  minä kertoon minun kesämökistä öö se on paras ...  \n",
       "2  tärkeä paikka minulle on makuuhuoneeni siellä ...  \n",
       "3  minulle tärkeä paikka on mun olohuone koska vo...  \n",
       "4  tämä paikka on minulle tosi tärkeä koska se an...  "
      ]
     },
     "execution_count": 24,
     "metadata": {},
     "output_type": "execute_result"
    }
   ],
   "source": [
    "with open(\"../../config.yml\") as file:\n",
    "    train_config = yaml.safe_load(file)\n",
    "\n",
    "csv_path_fi = train_config[\"data_args\"][\"csv_fi\"]\n",
    "csv_path_sv = train_config[\"data_args\"][\"csv_sv\"]\n",
    "\n",
    "usecols=['sample', 'student', 'recording_path', \n",
    "         'cefr_mean', 'split', 'transcript_normalized']\n",
    "\n",
    "df_fi = pd.read_csv(csv_path_fi, usecols=usecols+[\"task_id\"])\n",
    "df_sv = pd.read_csv(csv_path_sv, usecols=usecols+[\"task\"])\n",
    "\n",
    "df_fi.head()"
   ]
  },
  {
   "cell_type": "markdown",
   "metadata": {},
   "source": [
    "### Get results file paths \n",
    "\n",
    "These output files **contain the predictions** of the best model (with the highest $F_1$) on the test subsets of the folds (4 folds in total)."
   ]
  },
  {
   "cell_type": "code",
   "execution_count": 18,
   "metadata": {},
   "outputs": [],
   "source": [
    "result_paths_fi = {\n",
    "    \"BASE\": glob.glob(\"../../experiments/ex0_base/asa_ex0_no_augment_no_drop/asa_output_?.out\"),\n",
    "    \"BASE_CCL\": glob.glob(\"../../experiments/ex0_base/asa_ex4_base+base_ccl/asa_output_?.out\"),\n",
    "    \"BASE_CCL_2\": glob.glob(\"../../experiments/ex0_base/asa_ex4_base+base_ccl_2/asa_output_?.out\"),\n",
    "    \"BASE_CCL_UM\": glob.glob(\"../../experiments/ex0_base/asa_ex4_base+base_ccl_um/asa_output_?.out\"),\n",
    "    \"BASE_CCL_2_UM\": glob.glob(\"../../experiments/ex0_base/asa_ex4_base+base_ccl_2_um/asa_output_?.out\"),\n",
    "    \n",
    "    \"OS\": glob.glob(\"../../experiments/ex0_base/asa_ex2_resample_cefr/asa_output_?.out\"),\n",
    "    \"OS_CCL\": glob.glob(\"../../experiments/ex0_base/asa_ex4_base+os_augment_ccl/asa_output_?.out\"),\n",
    "    \"OS_CCL_2\": glob.glob(\"../../experiments/ex0_base/asa_ex4_base+os_augment_ccl_2/asa_output_?.out\"),\n",
    "    \"OS_CCL_UM\": glob.glob(\"../../experiments/ex0_base/asa_ex4_base+os_augment_ccl_um/asa_output_?.out\"),\n",
    "    \"OS_CCL_2_UM\": glob.glob(\"../../experiments/ex0_base/asa_ex4_base+os_augment_ccl_2_um/asa_output_?.out\")\n",
    "}"
   ]
  },
  {
   "cell_type": "code",
   "execution_count": 19,
   "metadata": {},
   "outputs": [],
   "source": [
    "result_paths_sv = {\n",
    "    \"BASE\": glob.glob(\"../../experiments/sv_base/asa_base/asa_output_?.out\"),\n",
    "    \"BASE_CCL\": glob.glob(\"../../experiments/sv_base/asa_base_ccl/asa_output_?.out\"),\n",
    "    \"BASE_CCL_2\": glob.glob(\"../../experiments/sv_base/asa_base_ccl_2/asa_output_?.out\"),\n",
    "    \"BASE_CCL_UM\": glob.glob(\"../../experiments/sv_base/asa_base_ccl_um/asa_output_?.out\"),\n",
    "    \"BASE_CCL_2_UM\": glob.glob(\"../../experiments/sv_base/asa_base_ccl_2_um/asa_output_?.out\"),\n",
    "    \n",
    "    \"OS\": glob.glob(\"../../experiments/sv_base/asa_os_augment/asa_output_?.out\"),\n",
    "    \"OS_CCL\": glob.glob(\"../../experiments/sv_base/asa_os_augment_ccl/asa_output_?.out\"),\n",
    "    \"OS_CCL_2\": glob.glob(\"../../experiments/sv_base/asa_os_augment_ccl_2/asa_output_?.out\"),\n",
    "    \"OS_CCL_UM\": glob.glob(\"../../experiments/sv_base/asa_os_augment_ccl_um/asa_output_?.out\"),\n",
    "    \"OS_CCL_2_UM\": glob.glob(\"../../experiments/sv_base/asa_os_augment_ccl_2_um/asa_output_?.out\")\n",
    "}"
   ]
  },
  {
   "cell_type": "markdown",
   "metadata": {},
   "source": [
    "### Gather the predictions of each experiments to the same df"
   ]
  },
  {
   "cell_type": "code",
   "execution_count": 27,
   "metadata": {},
   "outputs": [],
   "source": [
    "# For each experiment\n",
    "# We add the predction of the best model as a column to the df\n",
    "\n",
    "# get_aggregated_asa_df is a helper function that puts\n",
    "# the model predictions in the output file as a column\n",
    "# and returns the final df\n",
    "\n",
    "# 1. Finnish \n",
    "for exp_name, result_paths in result_paths_fi.items():\n",
    "    df = get_aggregated_asa_df(df_fi, result_paths, []).sort_index()\n",
    "    df_fi[exp_name] = df.Prediction\n",
    "\n",
    "# 2. Finland Swedish\n",
    "for exp_name, result_paths in result_paths_sv.items():\n",
    "    df = get_aggregated_asa_df(df_sv, result_paths, []).sort_index()\n",
    "    df_sv[exp_name] = df.Prediction"
   ]
  },
  {
   "cell_type": "code",
   "execution_count": 28,
   "metadata": {},
   "outputs": [
    {
     "data": {
      "text/html": [
       "<div>\n",
       "<style scoped>\n",
       "    .dataframe tbody tr th:only-of-type {\n",
       "        vertical-align: middle;\n",
       "    }\n",
       "\n",
       "    .dataframe tbody tr th {\n",
       "        vertical-align: top;\n",
       "    }\n",
       "\n",
       "    .dataframe thead th {\n",
       "        text-align: right;\n",
       "    }\n",
       "</style>\n",
       "<table border=\"1\" class=\"dataframe\">\n",
       "  <thead>\n",
       "    <tr style=\"text-align: right;\">\n",
       "      <th></th>\n",
       "      <th>sample</th>\n",
       "      <th>student</th>\n",
       "      <th>task_id</th>\n",
       "      <th>recording_path</th>\n",
       "      <th>cefr_mean</th>\n",
       "      <th>split</th>\n",
       "      <th>transcript_normalized</th>\n",
       "      <th>BASE</th>\n",
       "      <th>BASE_CCL</th>\n",
       "      <th>BASE_CCL_2</th>\n",
       "      <th>BASE_CCL_UM</th>\n",
       "      <th>BASE_CCL_2_UM</th>\n",
       "      <th>OS</th>\n",
       "      <th>OS_CCL</th>\n",
       "      <th>OS_CCL_2</th>\n",
       "      <th>OS_CCL_UM</th>\n",
       "      <th>OS_CCL_2_UM</th>\n",
       "    </tr>\n",
       "  </thead>\n",
       "  <tbody>\n",
       "    <tr>\n",
       "      <th>0</th>\n",
       "      <td>782</td>\n",
       "      <td>1</td>\n",
       "      <td>1</td>\n",
       "      <td>/m/teamwork/t40511_asr/c/digitala/DigiTala_201...</td>\n",
       "      <td>5</td>\n",
       "      <td>1</td>\n",
       "      <td>jos saisin valita tärkeimmän paikan minulle se...</td>\n",
       "      <td>5</td>\n",
       "      <td>5</td>\n",
       "      <td>5</td>\n",
       "      <td>5</td>\n",
       "      <td>5</td>\n",
       "      <td>5</td>\n",
       "      <td>5</td>\n",
       "      <td>5</td>\n",
       "      <td>5</td>\n",
       "      <td>6</td>\n",
       "    </tr>\n",
       "    <tr>\n",
       "      <th>1</th>\n",
       "      <td>181</td>\n",
       "      <td>3</td>\n",
       "      <td>1</td>\n",
       "      <td>/m/teamwork/t40511_asr/c/digitala/DigiTala_201...</td>\n",
       "      <td>4</td>\n",
       "      <td>1</td>\n",
       "      <td>minä kertoon minun kesämökistä öö se on paras ...</td>\n",
       "      <td>4</td>\n",
       "      <td>5</td>\n",
       "      <td>4</td>\n",
       "      <td>4</td>\n",
       "      <td>5</td>\n",
       "      <td>4</td>\n",
       "      <td>4</td>\n",
       "      <td>4</td>\n",
       "      <td>4</td>\n",
       "      <td>4</td>\n",
       "    </tr>\n",
       "    <tr>\n",
       "      <th>2</th>\n",
       "      <td>913</td>\n",
       "      <td>4</td>\n",
       "      <td>1</td>\n",
       "      <td>/m/teamwork/t40511_asr/c/digitala/DigiTala_201...</td>\n",
       "      <td>5</td>\n",
       "      <td>3</td>\n",
       "      <td>tärkeä paikka minulle on makuuhuoneeni siellä ...</td>\n",
       "      <td>5</td>\n",
       "      <td>6</td>\n",
       "      <td>5</td>\n",
       "      <td>5</td>\n",
       "      <td>5</td>\n",
       "      <td>5</td>\n",
       "      <td>6</td>\n",
       "      <td>6</td>\n",
       "      <td>6</td>\n",
       "      <td>6</td>\n",
       "    </tr>\n",
       "    <tr>\n",
       "      <th>3</th>\n",
       "      <td>1822</td>\n",
       "      <td>5</td>\n",
       "      <td>1</td>\n",
       "      <td>/m/teamwork/t40511_asr/c/digitala/DigiTala_201...</td>\n",
       "      <td>5</td>\n",
       "      <td>2</td>\n",
       "      <td>minulle tärkeä paikka on mun olohuone koska vo...</td>\n",
       "      <td>5</td>\n",
       "      <td>5</td>\n",
       "      <td>6</td>\n",
       "      <td>6</td>\n",
       "      <td>5</td>\n",
       "      <td>6</td>\n",
       "      <td>5</td>\n",
       "      <td>6</td>\n",
       "      <td>5</td>\n",
       "      <td>5</td>\n",
       "    </tr>\n",
       "    <tr>\n",
       "      <th>4</th>\n",
       "      <td>12</td>\n",
       "      <td>7</td>\n",
       "      <td>1</td>\n",
       "      <td>/m/teamwork/t40511_asr/c/digitala/DigiTala_201...</td>\n",
       "      <td>6</td>\n",
       "      <td>1</td>\n",
       "      <td>tämä paikka on minulle tosi tärkeä koska se an...</td>\n",
       "      <td>4</td>\n",
       "      <td>5</td>\n",
       "      <td>5</td>\n",
       "      <td>5</td>\n",
       "      <td>5</td>\n",
       "      <td>4</td>\n",
       "      <td>5</td>\n",
       "      <td>5</td>\n",
       "      <td>5</td>\n",
       "      <td>5</td>\n",
       "    </tr>\n",
       "  </tbody>\n",
       "</table>\n",
       "</div>"
      ],
      "text/plain": [
       "   sample  student  task_id  \\\n",
       "0     782        1        1   \n",
       "1     181        3        1   \n",
       "2     913        4        1   \n",
       "3    1822        5        1   \n",
       "4      12        7        1   \n",
       "\n",
       "                                      recording_path  cefr_mean  split  \\\n",
       "0  /m/teamwork/t40511_asr/c/digitala/DigiTala_201...          5      1   \n",
       "1  /m/teamwork/t40511_asr/c/digitala/DigiTala_201...          4      1   \n",
       "2  /m/teamwork/t40511_asr/c/digitala/DigiTala_201...          5      3   \n",
       "3  /m/teamwork/t40511_asr/c/digitala/DigiTala_201...          5      2   \n",
       "4  /m/teamwork/t40511_asr/c/digitala/DigiTala_201...          6      1   \n",
       "\n",
       "                               transcript_normalized  BASE  BASE_CCL  \\\n",
       "0  jos saisin valita tärkeimmän paikan minulle se...     5         5   \n",
       "1  minä kertoon minun kesämökistä öö se on paras ...     4         5   \n",
       "2  tärkeä paikka minulle on makuuhuoneeni siellä ...     5         6   \n",
       "3  minulle tärkeä paikka on mun olohuone koska vo...     5         5   \n",
       "4  tämä paikka on minulle tosi tärkeä koska se an...     4         5   \n",
       "\n",
       "   BASE_CCL_2  BASE_CCL_UM  BASE_CCL_2_UM  OS  OS_CCL  OS_CCL_2  OS_CCL_UM  \\\n",
       "0           5            5              5   5       5         5          5   \n",
       "1           4            4              5   4       4         4          4   \n",
       "2           5            5              5   5       6         6          6   \n",
       "3           6            6              5   6       5         6          5   \n",
       "4           5            5              5   4       5         5          5   \n",
       "\n",
       "   OS_CCL_2_UM  \n",
       "0            6  \n",
       "1            4  \n",
       "2            6  \n",
       "3            5  \n",
       "4            5  "
      ]
     },
     "execution_count": 28,
     "metadata": {},
     "output_type": "execute_result"
    }
   ],
   "source": [
    "# Inspect the final dfs\n",
    "df_fi.head()"
   ]
  },
  {
   "cell_type": "markdown",
   "metadata": {},
   "source": [
    "### For each experiment, get metrics of the model predictions\n",
    "Metrics used:\n",
    "- $F_1$\n",
    "- Precision\n",
    "- Recall\n",
    "- $\\kappa$ (quadratically weighted kappa)"
   ]
  },
  {
   "cell_type": "code",
   "execution_count": 32,
   "metadata": {},
   "outputs": [],
   "source": [
    "metrics_fi = []\n",
    "metrics_sv = []\n",
    "\n",
    "for exp_name, _ in result_paths_fi.items():\n",
    "    y_true, y_pred = df_fi[\"cefr_mean\"], df_fi[exp_name]\n",
    "    metrics = get_asa_metrics(y_true, y_pred) # precision,recall, f1, kappa\n",
    "    metrics_fi.append(metrics)\n",
    "\n",
    "for exp_name, _ in result_paths_sv.items():\n",
    "    y_true, y_pred = df_sv[\"cefr_mean\"], df_sv[exp_name]\n",
    "    metrics = get_asa_metrics(y_true, y_pred)\n",
    "    metrics_sv.append(metrics)"
   ]
  },
  {
   "cell_type": "code",
   "execution_count": 51,
   "metadata": {},
   "outputs": [],
   "source": [
    "columns=[\"precision\",\"recall\", \"f1\", \"kappa\"]\n",
    "\n",
    "df_metrics_fi = pd.DataFrame(metrics_fi, columns=columns,\n",
    "                             index=result_paths_fi.keys())\n",
    "\n",
    "df_metrics_sv = pd.DataFrame(metrics_sv, columns=columns, \n",
    "                             index=result_paths_sv.keys())\n",
    "\n",
    "# multiply precision, recall and f1 by 100 -> %\n",
    "df_metrics_fi.iloc[:,:3] = df_metrics_fi.iloc[:,:3]*100\n",
    "df_metrics_sv.iloc[:,:3] = df_metrics_sv.iloc[:,:3]*100"
   ]
  },
  {
   "cell_type": "code",
   "execution_count": 60,
   "metadata": {},
   "outputs": [],
   "source": [
    "# df_metrics_fi"
   ]
  },
  {
   "cell_type": "code",
   "execution_count": 61,
   "metadata": {},
   "outputs": [
    {
     "data": {
      "text/plain": [
       "precision    56.406783\n",
       "recall       41.878642\n",
       "f1           45.174396\n",
       "kappa         0.673999\n",
       "dtype: float64"
      ]
     },
     "execution_count": 61,
     "metadata": {},
     "output_type": "execute_result"
    }
   ],
   "source": [
    "df_metrics_sv.max()"
   ]
  },
  {
   "cell_type": "markdown",
   "metadata": {},
   "source": [
    "### Print tables for latex"
   ]
  },
  {
   "cell_type": "code",
   "execution_count": 58,
   "metadata": {},
   "outputs": [
    {
     "name": "stdout",
     "output_type": "stream",
     "text": [
      "\\begin{tabular}{lrrrr}\n",
      "\\toprule\n",
      "{} &  precision &  recall &     f1 &  kappa \\\\\n",
      "\\midrule\n",
      "BASE          &     33.555 &  36.364 & 34.589 &  0.801 \\\\\n",
      "BASE\\_CCL      &     32.626 &  34.378 & 33.017 &  0.790 \\\\\n",
      "BASE\\_CCL\\_2    &     33.379 &  36.147 & 34.390 &  0.800 \\\\\n",
      "BASE\\_CCL\\_UM   &     32.586 &  35.551 & 33.110 &  0.805 \\\\\n",
      "BASE\\_CCL\\_2\\_UM &     33.316 &  35.795 & 33.996 &  0.801 \\\\\n",
      "OS            &     39.060 &  38.864 & 38.611 &  0.797 \\\\\n",
      "OS\\_CCL        &     37.388 &  38.279 & 37.271 &  0.791 \\\\\n",
      "OS\\_CCL\\_2      &     37.799 &  38.062 & 37.792 &  0.780 \\\\\n",
      "OS\\_CCL\\_UM     &     36.143 &  37.662 & 36.334 &  0.803 \\\\\n",
      "OS\\_CCL\\_2\\_UM   &     41.620 &  38.261 & 38.803 &  0.797 \\\\\n",
      "\\bottomrule\n",
      "\\end{tabular}\n",
      "\n"
     ]
    },
    {
     "name": "stderr",
     "output_type": "stream",
     "text": [
      "/tmp/ipykernel_16617/3324978326.py:1: FutureWarning: In future versions `DataFrame.to_latex` is expected to utilise the base implementation of `Styler.to_latex` for formatting and rendering. The arguments signature may therefore change. It is recommended instead to use `DataFrame.style.to_latex` which also contains additional functionality.\n",
      "  print(df_metrics_fi.to_latex(index=True, float_format=\"{:.3f}\".format))\n"
     ]
    }
   ],
   "source": [
    "print(df_metrics_fi.to_latex(index=True, float_format=\"{:.3f}\".format))"
   ]
  },
  {
   "cell_type": "code",
   "execution_count": 56,
   "metadata": {},
   "outputs": [
    {
     "name": "stdout",
     "output_type": "stream",
     "text": [
      "\\begin{tabular}{lrrrr}\n",
      "\\toprule\n",
      "{} &  precision &  recall &    f1 &  kappa \\\\\n",
      "\\midrule\n",
      "BASE          &      38.18 &   34.62 & 35.37 &   0.65 \\\\\n",
      "BASE\\_CCL      &      37.43 &   29.53 & 28.33 &   0.60 \\\\\n",
      "BASE\\_CCL\\_2    &      37.75 &   32.94 & 33.37 &   0.64 \\\\\n",
      "BASE\\_CCL\\_UM   &      38.17 &   30.92 & 29.32 &   0.62 \\\\\n",
      "BASE\\_CCL\\_2\\_UM &      37.96 &   33.88 & 34.60 &   0.63 \\\\\n",
      "OS            &      44.22 &   39.65 & 40.84 &   0.67 \\\\\n",
      "OS\\_CCL        &      47.79 &   41.59 & 43.38 &   0.67 \\\\\n",
      "OS\\_CCL\\_2      &      52.76 &   41.88 & 45.17 &   0.67 \\\\\n",
      "OS\\_CCL\\_UM     &      56.41 &   41.57 & 42.78 &   0.65 \\\\\n",
      "OS\\_CCL\\_2\\_UM   &      48.68 &   41.44 & 43.97 &   0.66 \\\\\n",
      "\\bottomrule\n",
      "\\end{tabular}\n",
      "\n"
     ]
    },
    {
     "name": "stderr",
     "output_type": "stream",
     "text": [
      "/tmp/ipykernel_16617/109759121.py:1: FutureWarning: In future versions `DataFrame.to_latex` is expected to utilise the base implementation of `Styler.to_latex` for formatting and rendering. The arguments signature may therefore change. It is recommended instead to use `DataFrame.style.to_latex` which also contains additional functionality.\n",
      "  print(df_metrics_sv.to_latex(index=True, float_format=\"{:.2f}\".format))\n"
     ]
    }
   ],
   "source": [
    "print(df_metrics_sv.to_latex(index=True, float_format=\"{:.2f}\".format))"
   ]
  },
  {
   "cell_type": "code",
   "execution_count": null,
   "metadata": {},
   "outputs": [],
   "source": []
  }
 ],
 "metadata": {
  "kernelspec": {
   "display_name": "w2v2",
   "language": "python",
   "name": "internal_name"
  },
  "language_info": {
   "codemirror_mode": {
    "name": "ipython",
    "version": 3
   },
   "file_extension": ".py",
   "mimetype": "text/x-python",
   "name": "python",
   "nbconvert_exporter": "python",
   "pygments_lexer": "ipython3",
   "version": "3.11.3"
  }
 },
 "nbformat": 4,
 "nbformat_minor": 4
}
